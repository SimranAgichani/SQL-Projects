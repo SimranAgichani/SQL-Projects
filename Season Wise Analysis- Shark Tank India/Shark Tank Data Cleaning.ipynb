{
 "cells": [
  {
   "cell_type": "code",
   "execution_count": 1,
   "id": "f9e4903f",
   "metadata": {},
   "outputs": [],
   "source": [
    "#IMPORTING LIBRARIES\n",
    "import numpy as np\n",
    "import pandas as pd"
   ]
  },
  {
   "cell_type": "code",
   "execution_count": 3,
   "id": "c8ff5079",
   "metadata": {},
   "outputs": [],
   "source": [
    "data= pd.read_csv(\"C:/Users/simra/Downloads/Shark Tank India (impure).csv\")"
   ]
  },
  {
   "cell_type": "code",
   "execution_count": 5,
   "id": "a82ba5fb",
   "metadata": {},
   "outputs": [
    {
     "name": "stdout",
     "output_type": "stream",
     "text": [
      "<class 'pandas.core.frame.DataFrame'>\n",
      "RangeIndex: 478 entries, 0 to 477\n",
      "Data columns (total 52 columns):\n",
      " #   Column                               Non-Null Count  Dtype  \n",
      "---  ------                               --------------  -----  \n",
      " 0   Season_Number                        478 non-null    int64  \n",
      " 1   Startup_Name                         478 non-null    object \n",
      " 2   Episode_Number                       478 non-null    int64  \n",
      " 3   Pitch_Number                         478 non-null    int64  \n",
      " 4   Season_Start                         478 non-null    object \n",
      " 5   Season_End                           478 non-null    object \n",
      " 6   Original_Air_Date                    447 non-null    object \n",
      " 7   Episode_Title                        478 non-null    object \n",
      " 8   Anchor                               478 non-null    object \n",
      " 9   Industry                             478 non-null    object \n",
      " 10  Business_Description                 478 non-null    object \n",
      " 11  Company_Website                      466 non-null    object \n",
      " 12  Started_in                           355 non-null    float64\n",
      " 13  Number_of_Presenters                 478 non-null    int64  \n",
      " 14  Male_Presenters                      412 non-null    float64\n",
      " 15  Female_Presenters                    226 non-null    float64\n",
      " 16  Transgender_Presenters               3 non-null      float64\n",
      " 17  Couple_Presenters                    473 non-null    float64\n",
      " 18  Pitchers_Average_Age                 478 non-null    object \n",
      " 19  Pitchers_City                        473 non-null    object \n",
      " 20  Pitchers_State                       474 non-null    object \n",
      " 21  Yearly_Revenue(in_lakhs)             241 non-null    float64\n",
      " 22  Monthly_Sales(in_lakhs)              225 non-null    float64\n",
      " 23  Gross_Margin                         129 non-null    float64\n",
      " 24  Net_Margin                           73 non-null     float64\n",
      " 25  EBITDA                               23 non-null     float64\n",
      " 26  Cash_Burn                            64 non-null     object \n",
      " 27  SKUs                                 28 non-null     float64\n",
      " 28  Has_Patents                          43 non-null     object \n",
      " 29  Bootstrapped                         48 non-null     object \n",
      " 30  Original_Ask_Amount                  478 non-null    float64\n",
      " 31  Original_Offered_Equity(in_%)        478 non-null    float64\n",
      " 32  Valuation_Requested(in_lakhs)        478 non-null    float64\n",
      " 33  Received_Offer                       478 non-null    object \n",
      " 34  Accepted_Offer                       321 non-null    object \n",
      " 35  Total_Deal_Amount(in_lakhs)          268 non-null    float64\n",
      " 36  Total_Deal_Equity(%)                 268 non-null    float64\n",
      " 37  Number_of_Sharks_in_Deal             268 non-null    float64\n",
      " 38  Namita_Investment_Amount(in lakhs)   89 non-null     float64\n",
      " 39  Vineeta_Investment_Amount(in_lakhs)  68 non-null     float64\n",
      " 40  Anupam_Investment_Amount(in_lakhs)   75 non-null     float64\n",
      " 41  Aman_Investment_Amount(in_lakhs)     109 non-null    float64\n",
      " 42  Peyush_Investment_Amount((in_lakhs)  89 non-null     float64\n",
      " 43  Amit_Investment_Amount(in_lakhs)     35 non-null     float64\n",
      " 44  Ashneer_Investment_Amount            21 non-null     float64\n",
      " 45  Namita_Present                       389 non-null    object \n",
      " 46  Vineeta_Present                      318 non-null    object \n",
      " 47  Anupam_Present                       424 non-null    object \n",
      " 48  Aman_Present                         420 non-null    object \n",
      " 49  Peyush_Present                       307 non-null    object \n",
      " 50  Amit_Present                         137 non-null    object \n",
      " 51  Ashneer_Present                      99 non-null     object \n",
      "dtypes: float64(24), int64(4), object(24)\n",
      "memory usage: 194.3+ KB\n"
     ]
    }
   ],
   "source": [
    "data.info()"
   ]
  },
  {
   "cell_type": "code",
   "execution_count": 7,
   "id": "9dcc0c18",
   "metadata": {},
   "outputs": [],
   "source": [
    "data['Season_Start']=pd.to_datetime(data['Season_Start'])\n",
    "data['Season_End']=pd.to_datetime(data['Season_End'])\n",
    "data['Original_Air_Date']=pd.to_datetime(data['Original_Air_Date'])"
   ]
  },
  {
   "cell_type": "code",
   "execution_count": 8,
   "id": "691c1efb",
   "metadata": {},
   "outputs": [
    {
     "data": {
      "text/plain": [
       "Season_Number                            0\n",
       "Startup_Name                             0\n",
       "Episode_Number                           0\n",
       "Pitch_Number                             0\n",
       "Season_Start                             0\n",
       "Season_End                               0\n",
       "Original_Air_Date                       31\n",
       "Episode_Title                            0\n",
       "Anchor                                   0\n",
       "Industry                                 0\n",
       "Business_Description                     0\n",
       "Company_Website                         12\n",
       "Started_in                             123\n",
       "Number_of_Presenters                     0\n",
       "Male_Presenters                         66\n",
       "Female_Presenters                      252\n",
       "Transgender_Presenters                 475\n",
       "Couple_Presenters                        5\n",
       "Pitchers_Average_Age                     0\n",
       "Pitchers_City                            5\n",
       "Pitchers_State                           4\n",
       "Yearly_Revenue(in_lakhs)               237\n",
       "Monthly_Sales(in_lakhs)                253\n",
       "Gross_Margin                           349\n",
       "Net_Margin                             405\n",
       "EBITDA                                 455\n",
       "Cash_Burn                              414\n",
       "SKUs                                   450\n",
       "Has_Patents                            435\n",
       "Bootstrapped                           430\n",
       "Original_Ask_Amount                      0\n",
       "Original_Offered_Equity(in_%)            0\n",
       "Valuation_Requested(in_lakhs)            0\n",
       "Received_Offer                           0\n",
       "Accepted_Offer                         157\n",
       "Total_Deal_Amount(in_lakhs)            210\n",
       "Total_Deal_Equity(%)                   210\n",
       "Number_of_Sharks_in_Deal               210\n",
       "Namita_Investment_Amount(in lakhs)     389\n",
       "Vineeta_Investment_Amount(in_lakhs)    410\n",
       "Anupam_Investment_Amount(in_lakhs)     403\n",
       "Aman_Investment_Amount(in_lakhs)       369\n",
       "Peyush_Investment_Amount((in_lakhs)    389\n",
       "Amit_Investment_Amount(in_lakhs)       443\n",
       "Ashneer_Investment_Amount              457\n",
       "Namita_Present                          89\n",
       "Vineeta_Present                        160\n",
       "Anupam_Present                          54\n",
       "Aman_Present                            58\n",
       "Peyush_Present                         171\n",
       "Amit_Present                           341\n",
       "Ashneer_Present                        379\n",
       "dtype: int64"
      ]
     },
     "execution_count": 8,
     "metadata": {},
     "output_type": "execute_result"
    }
   ],
   "source": [
    "#CHECKING FOR NULL VALUES\n",
    "data.isnull().sum()"
   ]
  },
  {
   "cell_type": "code",
   "execution_count": 9,
   "id": "1fd2f31a",
   "metadata": {},
   "outputs": [],
   "source": [
    "#DROP UN-NECESSARY COLUMNS\n",
    "data.drop(columns=['Company_Website','Original_Air_Date','Episode_Title','Gross_Margin','Net_Margin','EBITDA','Cash_Burn','SKUs','Has_Patents','Bootstrapped'], inplace=True)"
   ]
  },
  {
   "cell_type": "code",
   "execution_count": 10,
   "id": "ea6f8f96",
   "metadata": {},
   "outputs": [],
   "source": [
    "#TREATING NULL VALUES OF STARTED_IN COLUMN\n",
    "data['Started_in']=data['Started_in'].fillna(\"Not Mentioned\")"
   ]
  },
  {
   "cell_type": "code",
   "execution_count": 11,
   "id": "c5770a10",
   "metadata": {},
   "outputs": [],
   "source": [
    "#TREATING NULL VALUES FOR COLUMN.\n",
    "data['Male_Presenters']=data['Male_Presenters'].fillna(0)\n",
    "data['Female_Presenters']=data['Female_Presenters'].fillna(0)\n",
    "data['Transgender_Presenters']=data['Transgender_Presenters'].fillna(0)\n",
    "data['Couple_Presenters']=data['Couple_Presenters'].fillna(0)\n",
    "data['Pitchers_City']=data['Pitchers_City'].fillna('Not Mentioned')"
   ]
  },
  {
   "cell_type": "code",
   "execution_count": 12,
   "id": "db590f75",
   "metadata": {},
   "outputs": [],
   "source": [
    "#TREATING NULL VALUES FOR COLUMN.\n",
    "data['Pitchers_State']=data['Pitchers_State'].fillna('Not Mentioned')\n",
    "data['Accepted_Offer']= data['Accepted_Offer'].fillna(\"No Offer Received.\")\n",
    "data['Total_Deal_Amount(in_lakhs)']= data['Total_Deal_Amount(in_lakhs)'].fillna(0)\n",
    "data['Total_Deal_Equity(%)']= data['Total_Deal_Equity(%)'].fillna(0)\n",
    "data['Number_of_Sharks_in_Deal']= data['Number_of_Sharks_in_Deal'].fillna(0)\n",
    "data['Namita_Investment_Amount(in lakhs)']= data['Namita_Investment_Amount(in lakhs)'].fillna(0)\n",
    "data['Vineeta_Investment_Amount(in_lakhs)']= data['Vineeta_Investment_Amount(in_lakhs)'].fillna(0)\n",
    "data['Anupam_Investment_Amount(in_lakhs)']= data['Anupam_Investment_Amount(in_lakhs)'].fillna(0)\n",
    "data['Aman_Investment_Amount(in_lakhs)']= data['Aman_Investment_Amount(in_lakhs)'].fillna(0)\n",
    "data['Peyush_Investment_Amount((in_lakhs)']= data['Peyush_Investment_Amount((in_lakhs)'].fillna(0)\n",
    "data['Amit_Investment_Amount(in_lakhs)']= data['Amit_Investment_Amount(in_lakhs)'].fillna(0)\n",
    "data['Ashneer_Investment_Amount']= data['Ashneer_Investment_Amount'].fillna(0)\n",
    "data['Namita_Present']= data['Namita_Present'].fillna('No')\n",
    "data['Vineeta_Present']= data['Vineeta_Present'].fillna('No')\n",
    "data['Anupam_Present']= data['Anupam_Present'].fillna('No')\n",
    "data['Aman_Present']= data['Aman_Present'].fillna('No')\n",
    "data['Peyush_Present']= data['Peyush_Present'].fillna('No')\n",
    "data['Amit_Present']= data['Amit_Present'].fillna('No')\n",
    "data['Ashneer_Present']= data['Ashneer_Present'].fillna('No')"
   ]
  },
  {
   "cell_type": "code",
   "execution_count": 13,
   "id": "55addcdf",
   "metadata": {},
   "outputs": [],
   "source": [
    "#TREATING NULL VALUES FOR  Yearly_Revenue(in_lakhs)  AND  Monthly_Sales(in_lakhs)\n",
    "\n",
    "data['Yearly_Revenue(in_lakhs)']=data['Yearly_Revenue(in_lakhs)'].fillna('Not Mentioned')\n",
    "data['Monthly_Sales(in_lakhs)']=data['Monthly_Sales(in_lakhs)'].fillna('Not Mentioned')"
   ]
  },
  {
   "cell_type": "code",
   "execution_count": 14,
   "id": "94664c8d",
   "metadata": {},
   "outputs": [],
   "source": [
    "#CLEANING  ANCHOR , INDUSTRY BUSINESS DESCRIPTION\n",
    "data['Anchor']= data['Anchor'].str.replace('0',' ')\n",
    "data['Industry']= data['Industry'].str.replace('0',' ')\n",
    "data['Business_Description']=data['Business_Description'].str.replace('0',' ')\n"
   ]
  },
  {
   "cell_type": "code",
   "execution_count": 15,
   "id": "edf2d2df",
   "metadata": {},
   "outputs": [
    {
     "data": {
      "text/plain": [
       "Season_Number                          0\n",
       "Startup_Name                           0\n",
       "Episode_Number                         0\n",
       "Pitch_Number                           0\n",
       "Season_Start                           0\n",
       "Season_End                             0\n",
       "Anchor                                 0\n",
       "Industry                               0\n",
       "Business_Description                   0\n",
       "Started_in                             0\n",
       "Number_of_Presenters                   0\n",
       "Male_Presenters                        0\n",
       "Female_Presenters                      0\n",
       "Transgender_Presenters                 0\n",
       "Couple_Presenters                      0\n",
       "Pitchers_Average_Age                   0\n",
       "Pitchers_City                          0\n",
       "Pitchers_State                         0\n",
       "Yearly_Revenue(in_lakhs)               0\n",
       "Monthly_Sales(in_lakhs)                0\n",
       "Original_Ask_Amount                    0\n",
       "Original_Offered_Equity(in_%)          0\n",
       "Valuation_Requested(in_lakhs)          0\n",
       "Received_Offer                         0\n",
       "Accepted_Offer                         0\n",
       "Total_Deal_Amount(in_lakhs)            0\n",
       "Total_Deal_Equity(%)                   0\n",
       "Number_of_Sharks_in_Deal               0\n",
       "Namita_Investment_Amount(in lakhs)     0\n",
       "Vineeta_Investment_Amount(in_lakhs)    0\n",
       "Anupam_Investment_Amount(in_lakhs)     0\n",
       "Aman_Investment_Amount(in_lakhs)       0\n",
       "Peyush_Investment_Amount((in_lakhs)    0\n",
       "Amit_Investment_Amount(in_lakhs)       0\n",
       "Ashneer_Investment_Amount              0\n",
       "Namita_Present                         0\n",
       "Vineeta_Present                        0\n",
       "Anupam_Present                         0\n",
       "Aman_Present                           0\n",
       "Peyush_Present                         0\n",
       "Amit_Present                           0\n",
       "Ashneer_Present                        0\n",
       "dtype: int64"
      ]
     },
     "execution_count": 15,
     "metadata": {},
     "output_type": "execute_result"
    }
   ],
   "source": [
    "#CHECKING FOR NULL VALUES.\n",
    "data.isnull().sum()"
   ]
  },
  {
   "cell_type": "code",
   "execution_count": 16,
   "id": "8f2a571e",
   "metadata": {},
   "outputs": [],
   "source": [
    "#NOW OUR DATA IS CLEAN AND READY TO USE , SO WE WILL DUMP THIS FILE.\n",
    "data.to_csv('sharktank.csv', index=False)"
   ]
  },
  {
   "cell_type": "code",
   "execution_count": null,
   "id": "cebce003",
   "metadata": {},
   "outputs": [],
   "source": []
  }
 ],
 "metadata": {
  "kernelspec": {
   "display_name": "Python 3 (ipykernel)",
   "language": "python",
   "name": "python3"
  },
  "language_info": {
   "codemirror_mode": {
    "name": "ipython",
    "version": 3
   },
   "file_extension": ".py",
   "mimetype": "text/x-python",
   "name": "python",
   "nbconvert_exporter": "python",
   "pygments_lexer": "ipython3",
   "version": "3.9.16"
  }
 },
 "nbformat": 4,
 "nbformat_minor": 5
}
